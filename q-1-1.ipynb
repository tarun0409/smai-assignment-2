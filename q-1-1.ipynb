{
 "cells": [
  {
   "cell_type": "code",
   "execution_count": 1,
   "metadata": {},
   "outputs": [],
   "source": [
    "import pandas as pd\n",
    "import numpy as np\n",
    "import operator\n",
    "from sklearn.model_selection import train_test_split\n",
    "import matplotlib.pyplot as plt"
   ]
  },
  {
   "cell_type": "code",
   "execution_count": 2,
   "metadata": {
    "scrolled": true
   },
   "outputs": [
    {
     "data": {
      "text/html": [
       "<div>\n",
       "<style scoped>\n",
       "    .dataframe tbody tr th:only-of-type {\n",
       "        vertical-align: middle;\n",
       "    }\n",
       "\n",
       "    .dataframe tbody tr th {\n",
       "        vertical-align: top;\n",
       "    }\n",
       "\n",
       "    .dataframe thead th {\n",
       "        text-align: right;\n",
       "    }\n",
       "</style>\n",
       "<table border=\"1\" class=\"dataframe\">\n",
       "  <thead>\n",
       "    <tr style=\"text-align: right;\">\n",
       "      <th></th>\n",
       "      <th>class</th>\n",
       "      <th>a1</th>\n",
       "      <th>a2</th>\n",
       "      <th>a3</th>\n",
       "      <th>a4</th>\n",
       "      <th>a5</th>\n",
       "      <th>a6</th>\n",
       "      <th>Id</th>\n",
       "    </tr>\n",
       "  </thead>\n",
       "  <tbody>\n",
       "    <tr>\n",
       "      <th>0</th>\n",
       "      <td>1</td>\n",
       "      <td>1</td>\n",
       "      <td>1</td>\n",
       "      <td>1</td>\n",
       "      <td>1</td>\n",
       "      <td>3</td>\n",
       "      <td>1</td>\n",
       "      <td>data_5</td>\n",
       "    </tr>\n",
       "    <tr>\n",
       "      <th>1</th>\n",
       "      <td>1</td>\n",
       "      <td>1</td>\n",
       "      <td>1</td>\n",
       "      <td>1</td>\n",
       "      <td>1</td>\n",
       "      <td>3</td>\n",
       "      <td>2</td>\n",
       "      <td>data_6</td>\n",
       "    </tr>\n",
       "    <tr>\n",
       "      <th>2</th>\n",
       "      <td>1</td>\n",
       "      <td>1</td>\n",
       "      <td>1</td>\n",
       "      <td>1</td>\n",
       "      <td>3</td>\n",
       "      <td>2</td>\n",
       "      <td>1</td>\n",
       "      <td>data_19</td>\n",
       "    </tr>\n",
       "    <tr>\n",
       "      <th>3</th>\n",
       "      <td>1</td>\n",
       "      <td>1</td>\n",
       "      <td>1</td>\n",
       "      <td>1</td>\n",
       "      <td>3</td>\n",
       "      <td>3</td>\n",
       "      <td>2</td>\n",
       "      <td>data_22</td>\n",
       "    </tr>\n",
       "    <tr>\n",
       "      <th>4</th>\n",
       "      <td>1</td>\n",
       "      <td>1</td>\n",
       "      <td>1</td>\n",
       "      <td>2</td>\n",
       "      <td>1</td>\n",
       "      <td>2</td>\n",
       "      <td>1</td>\n",
       "      <td>data_27</td>\n",
       "    </tr>\n",
       "  </tbody>\n",
       "</table>\n",
       "</div>"
      ],
      "text/plain": [
       "   class  a1  a2  a3  a4  a5  a6       Id\n",
       "0      1   1   1   1   1   3   1   data_5\n",
       "1      1   1   1   1   1   3   2   data_6\n",
       "2      1   1   1   1   3   2   1  data_19\n",
       "3      1   1   1   1   3   3   2  data_22\n",
       "4      1   1   1   2   1   2   1  data_27"
      ]
     },
     "execution_count": 2,
     "metadata": {},
     "output_type": "execute_result"
    }
   ],
   "source": [
    "data = pd.read_csv(\"Robot1\", header=None, delim_whitespace=True)\n",
    "data.columns = ['class','a1','a2','a3','a4','a5','a6','Id']\n",
    "data.head()"
   ]
  },
  {
   "cell_type": "code",
   "execution_count": 3,
   "metadata": {},
   "outputs": [],
   "source": [
    "X_train, X_test, y_train, y_test = train_test_split(\n",
    "    data,\n",
    "    data[['class']],\n",
    "    test_size=0.2,\n",
    "    random_state=0)"
   ]
  },
  {
   "cell_type": "code",
   "execution_count": 4,
   "metadata": {},
   "outputs": [],
   "source": [
    "class KNearestNeighbors:\n",
    "    def compute_accuracy(self,y_actual, y_predict):\n",
    "        y_actual = list(y_actual)\n",
    "        y_predict = list(y_predict)\n",
    "        hits = 0\n",
    "        for i in range(0,len(y_actual)):\n",
    "            if y_actual[i] == y_predict[i]:\n",
    "                hits+=1\n",
    "        return float(hits)/float(len(y_actual))\n",
    "    def predict(self,train_data, predict_data, k):\n",
    "        dist_dict = dict()\n",
    "        id_class_dict = dict()\n",
    "        inc_cols = ['a1','a2','a3','a4','a5','a6']\n",
    "        predict_class = list()\n",
    "        for predict_index,predict_row in predict_data.iterrows():\n",
    "            for train_index,train_row in train_data.iterrows():\n",
    "                if train_row['Id']==predict_row['Id']:\n",
    "                    continue\n",
    "                d = np.sqrt(np.sum(np.square(np.subtract(np.array(train_row[inc_cols]),np.array(predict_row[inc_cols])))))\n",
    "                dist_dict[train_row['Id']] = d\n",
    "                id_class_dict[train_row['Id']] = train_row['class']\n",
    "            sorted_dist = sorted(dist_dict.items(), key=operator.itemgetter(1))[:k]\n",
    "            class_dict = dict()\n",
    "            for d in sorted_dist:\n",
    "                c = id_class_dict[d[0]]\n",
    "                if c in class_dict:\n",
    "                    class_dict[c] += 1\n",
    "                else:\n",
    "                    class_dict[c] = 1\n",
    "            max_class = max(class_dict, key=class_dict.get)\n",
    "            predict_class.append(max_class)\n",
    "        return predict_class"
   ]
  },
  {
   "cell_type": "code",
   "execution_count": 5,
   "metadata": {},
   "outputs": [
    {
     "name": "stdout",
     "output_type": "stream",
     "text": [
      "**************Robot1 Dataset******************\n",
      "Best K : 7\n",
      "Best Train Accuracy : 0.808080808081\n",
      "Best Test Accuracy : 0.84\n",
      "Best ratio : 0.411865653346\n",
      "**********************************************\n"
     ]
    }
   ],
   "source": [
    "knn = KNearestNeighbors()\n",
    "m = len(X_train)\n",
    "# max_k = int(np.sqrt(m)) + 1\n",
    "max_k = m-1\n",
    "best_train_acc = 0\n",
    "best_test_acc = 0\n",
    "best_ratio = 0\n",
    "best_k = 0\n",
    "ks = list()\n",
    "train_accs = list()\n",
    "test_accs = list()\n",
    "for k in range(1,(max_k+1)):\n",
    "    ks.append(k)\n",
    "    \n",
    "    train_pred = knn.predict(X_train,X_train,k)\n",
    "    train_acc = knn.compute_accuracy(X_train['class'],train_pred)\n",
    "    \n",
    "    test_pred = knn.predict(X_train,X_test,k)\n",
    "    test_acc = knn.compute_accuracy(X_test['class'],test_pred)\n",
    "    \n",
    "    train_accs.append(train_acc)\n",
    "    test_accs.append(test_acc)\n",
    "    \n",
    "    ratio = 1.0/((1.0/float(train_acc)) + (1.0/float(test_acc)))\n",
    "    if ratio > best_ratio:\n",
    "        best_ratio = ratio\n",
    "        best_train_acc = train_acc\n",
    "        best_test_acc = test_acc\n",
    "        best_k = k\n",
    "\n",
    "print '**************Robot1 Dataset******************'\n",
    "print 'Best K : '+str(best_k)\n",
    "print 'Best Train Accuracy : '+str(best_train_acc)\n",
    "print 'Best Test Accuracy : '+str(best_test_acc)\n",
    "print 'Best ratio : '+str(best_ratio)\n",
    "print '**********************************************'"
   ]
  },
  {
   "cell_type": "code",
   "execution_count": 6,
   "metadata": {},
   "outputs": [
    {
     "data": {
      "text/plain": [
       "<matplotlib.text.Text at 0x7f426eb72e90>"
      ]
     },
     "execution_count": 6,
     "metadata": {},
     "output_type": "execute_result"
    },
    {
     "data": {
      "image/png": "[encoded data removed]",
      "text/plain": [
       "<matplotlib.figure.Figure at 0x7f426eb773d0>"
      ]
     },
     "metadata": {
      "needs_background": "light"
     },
     "output_type": "display_data"
    }
   ],
   "source": [
    "df = pd.DataFrame({'Train Accuracy': train_accs, 'Test Accuracy':test_accs}, index=ks)\n",
    "lines = df.plot.line()\n",
    "lines.set_title('Robot1 dataset')\n",
    "lines.set_xlabel('K')\n",
    "lines.set_ylabel('Accuracy')"
   ]
  },
  {
   "cell_type": "code",
   "execution_count": 7,
   "metadata": {},
   "outputs": [
    {
     "data": {
      "text/html": [
       "<div>\n",
       "<style scoped>\n",
       "    .dataframe tbody tr th:only-of-type {\n",
       "        vertical-align: middle;\n",
       "    }\n",
       "\n",
       "    .dataframe tbody tr th {\n",
       "        vertical-align: top;\n",
       "    }\n",
       "\n",
       "    .dataframe thead th {\n",
       "        text-align: right;\n",
       "    }\n",
       "</style>\n",
       "<table border=\"1\" class=\"dataframe\">\n",
       "  <thead>\n",
       "    <tr style=\"text-align: right;\">\n",
       "      <th></th>\n",
       "      <th>class</th>\n",
       "      <th>a1</th>\n",
       "      <th>a2</th>\n",
       "      <th>a3</th>\n",
       "      <th>a4</th>\n",
       "      <th>a5</th>\n",
       "      <th>a6</th>\n",
       "      <th>Id</th>\n",
       "    </tr>\n",
       "  </thead>\n",
       "  <tbody>\n",
       "    <tr>\n",
       "      <th>0</th>\n",
       "      <td>1</td>\n",
       "      <td>1</td>\n",
       "      <td>1</td>\n",
       "      <td>1</td>\n",
       "      <td>1</td>\n",
       "      <td>1</td>\n",
       "      <td>2</td>\n",
       "      <td>data_2</td>\n",
       "    </tr>\n",
       "    <tr>\n",
       "      <th>1</th>\n",
       "      <td>1</td>\n",
       "      <td>1</td>\n",
       "      <td>1</td>\n",
       "      <td>1</td>\n",
       "      <td>1</td>\n",
       "      <td>2</td>\n",
       "      <td>1</td>\n",
       "      <td>data_3</td>\n",
       "    </tr>\n",
       "    <tr>\n",
       "      <th>2</th>\n",
       "      <td>1</td>\n",
       "      <td>1</td>\n",
       "      <td>1</td>\n",
       "      <td>1</td>\n",
       "      <td>1</td>\n",
       "      <td>2</td>\n",
       "      <td>2</td>\n",
       "      <td>data_4</td>\n",
       "    </tr>\n",
       "    <tr>\n",
       "      <th>3</th>\n",
       "      <td>0</td>\n",
       "      <td>1</td>\n",
       "      <td>1</td>\n",
       "      <td>1</td>\n",
       "      <td>1</td>\n",
       "      <td>3</td>\n",
       "      <td>1</td>\n",
       "      <td>data_5</td>\n",
       "    </tr>\n",
       "    <tr>\n",
       "      <th>4</th>\n",
       "      <td>0</td>\n",
       "      <td>1</td>\n",
       "      <td>1</td>\n",
       "      <td>1</td>\n",
       "      <td>1</td>\n",
       "      <td>4</td>\n",
       "      <td>1</td>\n",
       "      <td>data_7</td>\n",
       "    </tr>\n",
       "  </tbody>\n",
       "</table>\n",
       "</div>"
      ],
      "text/plain": [
       "   class  a1  a2  a3  a4  a5  a6      Id\n",
       "0      1   1   1   1   1   1   2  data_2\n",
       "1      1   1   1   1   1   2   1  data_3\n",
       "2      1   1   1   1   1   2   2  data_4\n",
       "3      0   1   1   1   1   3   1  data_5\n",
       "4      0   1   1   1   1   4   1  data_7"
      ]
     },
     "execution_count": 7,
     "metadata": {},
     "output_type": "execute_result"
    }
   ],
   "source": [
    "data = pd.read_csv(\"Robot2\", header=None, delim_whitespace=True)\n",
    "data.columns = ['class','a1','a2','a3','a4','a5','a6','Id']\n",
    "data.head()"
   ]
  },
  {
   "cell_type": "code",
   "execution_count": 8,
   "metadata": {},
   "outputs": [],
   "source": [
    "X_train, X_test, y_train, y_test = train_test_split(\n",
    "    data,\n",
    "    data[['class']],\n",
    "    test_size=0.2,\n",
    "    random_state=0)"
   ]
  },
  {
   "cell_type": "code",
   "execution_count": 9,
   "metadata": {},
   "outputs": [
    {
     "name": "stdout",
     "output_type": "stream",
     "text": [
      "**************Robot2 Dataset******************\n",
      "Best K : 3\n",
      "Best Train Accuracy : 0.845360824742\n",
      "Best Test Accuracy : 1.0\n",
      "Best ratio : 0.458100558659\n",
      "**********************************************\n"
     ]
    }
   ],
   "source": [
    "knn = KNearestNeighbors()\n",
    "m = len(X_train)\n",
    "# max_k = int(np.sqrt(m)) + 1\n",
    "max_k = m-1\n",
    "best_train_acc = 0\n",
    "best_test_acc = 0\n",
    "best_ratio = 0\n",
    "best_k = 0\n",
    "ks = list()\n",
    "train_accs = list()\n",
    "test_accs = list()\n",
    "for k in range(1,(max_k+1)):\n",
    "    ks.append(k)\n",
    "    \n",
    "    train_pred = knn.predict(X_train,X_train,k)\n",
    "    train_acc = knn.compute_accuracy(X_train['class'],train_pred)\n",
    "    \n",
    "    test_pred = knn.predict(X_train,X_test,k)\n",
    "    test_acc = knn.compute_accuracy(X_test['class'],test_pred)\n",
    "    \n",
    "    train_accs.append(train_acc)\n",
    "    test_accs.append(test_acc)\n",
    "    \n",
    "    ratio = 1.0/((1.0/float(train_acc)) + (1.0/float(test_acc)))\n",
    "    if ratio > best_ratio:\n",
    "        best_ratio = ratio\n",
    "        best_train_acc = train_acc\n",
    "        best_test_acc = test_acc\n",
    "        best_k = k\n",
    "\n",
    "print '**************Robot2 Dataset******************'\n",
    "print 'Best K : '+str(best_k)\n",
    "print 'Best Train Accuracy : '+str(best_train_acc)\n",
    "print 'Best Test Accuracy : '+str(best_test_acc)\n",
    "print 'Best ratio : '+str(best_ratio)\n",
    "print '**********************************************'\n"
   ]
  },
  {
   "cell_type": "code",
   "execution_count": 10,
   "metadata": {},
   "outputs": [
    {
     "data": {
      "text/plain": [
       "<matplotlib.text.Text at 0x7f426eb2bf50>"
      ]
     },
     "execution_count": 10,
     "metadata": {},
     "output_type": "execute_result"
    },
    {
     "data": {
      "image/png": "[encoded data removed]",
      "text/plain": [
       "<matplotlib.figure.Figure at 0x7f426e9ec510>"
      ]
     },
     "metadata": {
      "needs_background": "light"
     },
     "output_type": "display_data"
    }
   ],
   "source": [
    "df = pd.DataFrame({'Train Accuracy': train_accs, 'Test Accuracy':test_accs}, index=ks)\n",
    "lines = df.plot.line()\n",
    "lines.set_title('Robot2 dataset')\n",
    "lines.set_xlabel('K')\n",
    "lines.set_ylabel('Accuracy')"
   ]
  },
  {
   "cell_type": "code",
   "execution_count": null,
   "metadata": {},
   "outputs": [],
   "source": []
  },
  {
   "cell_type": "code",
   "execution_count": 11,
   "metadata": {},
   "outputs": [
    {
     "data": {
      "text/html": [
       "<div>\n",
       "<style scoped>\n",
       "    .dataframe tbody tr th:only-of-type {\n",
       "        vertical-align: middle;\n",
       "    }\n",
       "\n",
       "    .dataframe tbody tr th {\n",
       "        vertical-align: top;\n",
       "    }\n",
       "\n",
       "    .dataframe thead th {\n",
       "        text-align: right;\n",
       "    }\n",
       "</style>\n",
       "<table border=\"1\" class=\"dataframe\">\n",
       "  <thead>\n",
       "    <tr style=\"text-align: right;\">\n",
       "      <th></th>\n",
       "      <th>sepal length in cm</th>\n",
       "      <th>sepal width in cm</th>\n",
       "      <th>petal length in cm</th>\n",
       "      <th>petal width in cm</th>\n",
       "      <th>class</th>\n",
       "      <th>Id</th>\n",
       "    </tr>\n",
       "  </thead>\n",
       "  <tbody>\n",
       "    <tr>\n",
       "      <th>0</th>\n",
       "      <td>5.1</td>\n",
       "      <td>3.5</td>\n",
       "      <td>1.4</td>\n",
       "      <td>0.2</td>\n",
       "      <td>Iris-setosa</td>\n",
       "      <td>1</td>\n",
       "    </tr>\n",
       "    <tr>\n",
       "      <th>1</th>\n",
       "      <td>6.3</td>\n",
       "      <td>3.3</td>\n",
       "      <td>6.0</td>\n",
       "      <td>2.5</td>\n",
       "      <td>Iris-virginica</td>\n",
       "      <td>2</td>\n",
       "    </tr>\n",
       "    <tr>\n",
       "      <th>2</th>\n",
       "      <td>5.0</td>\n",
       "      <td>3.0</td>\n",
       "      <td>1.6</td>\n",
       "      <td>0.2</td>\n",
       "      <td>Iris-setosa</td>\n",
       "      <td>3</td>\n",
       "    </tr>\n",
       "    <tr>\n",
       "      <th>3</th>\n",
       "      <td>6.2</td>\n",
       "      <td>2.8</td>\n",
       "      <td>4.8</td>\n",
       "      <td>1.8</td>\n",
       "      <td>Iris-virginica</td>\n",
       "      <td>4</td>\n",
       "    </tr>\n",
       "    <tr>\n",
       "      <th>4</th>\n",
       "      <td>6.4</td>\n",
       "      <td>3.1</td>\n",
       "      <td>5.5</td>\n",
       "      <td>1.8</td>\n",
       "      <td>Iris-virginica</td>\n",
       "      <td>5</td>\n",
       "    </tr>\n",
       "  </tbody>\n",
       "</table>\n",
       "</div>"
      ],
      "text/plain": [
       "   sepal length in cm  sepal width in cm  petal length in cm  \\\n",
       "0                 5.1                3.5                 1.4   \n",
       "1                 6.3                3.3                 6.0   \n",
       "2                 5.0                3.0                 1.6   \n",
       "3                 6.2                2.8                 4.8   \n",
       "4                 6.4                3.1                 5.5   \n",
       "\n",
       "   petal width in cm           class  Id  \n",
       "0                0.2     Iris-setosa   1  \n",
       "1                2.5  Iris-virginica   2  \n",
       "2                0.2     Iris-setosa   3  \n",
       "3                1.8  Iris-virginica   4  \n",
       "4                1.8  Iris-virginica   5  "
      ]
     },
     "execution_count": 11,
     "metadata": {},
     "output_type": "execute_result"
    }
   ],
   "source": [
    "data = pd.read_csv(\"Iris.csv\", header=None)\n",
    "data.columns = ['sepal length in cm','sepal width in cm','petal length in cm','petal width in cm','class']\n",
    "data['Id'] = range(1, len(data) + 1)\n",
    "data.head()"
   ]
  },
  {
   "cell_type": "code",
   "execution_count": 12,
   "metadata": {},
   "outputs": [],
   "source": [
    "X_train, X_test, y_train, y_test = train_test_split(\n",
    "    data,\n",
    "    data[['class']],\n",
    "    test_size=0.2,\n",
    "    random_state=0)"
   ]
  },
  {
   "cell_type": "code",
   "execution_count": 13,
   "metadata": {},
   "outputs": [],
   "source": [
    "class KNearestNeighbors:\n",
    "    def compute_accuracy(self,y_actual, y_predict):\n",
    "        y_actual = list(y_actual)\n",
    "        y_predict = list(y_predict)\n",
    "        hits = 0\n",
    "        for i in range(0,len(y_actual)):\n",
    "            if y_actual[i] == y_predict[i]:\n",
    "                hits+=1\n",
    "        return float(hits)/float(len(y_actual))\n",
    "    def predict(self,train_data, predict_data, k):\n",
    "        dist_dict = dict()\n",
    "        id_class_dict = dict()\n",
    "        inc_cols = ['sepal length in cm','sepal width in cm','petal length in cm','petal width in cm']\n",
    "        predict_class = list()\n",
    "        for predict_index,predict_row in predict_data.iterrows():\n",
    "            for train_index,train_row in train_data.iterrows():\n",
    "                if train_row['Id']==predict_row['Id']:\n",
    "                    continue\n",
    "                d = np.sqrt(np.sum(np.square(np.subtract(np.array(train_row[inc_cols]),np.array(predict_row[inc_cols])))))\n",
    "                dist_dict[train_row['Id']] = d\n",
    "                id_class_dict[train_row['Id']] = train_row['class']\n",
    "            sorted_dist = sorted(dist_dict.items(), key=operator.itemgetter(1))[:k]\n",
    "            class_dict = dict()\n",
    "            for d in sorted_dist:\n",
    "                c = id_class_dict[d[0]]\n",
    "                if c in class_dict:\n",
    "                    class_dict[c] += 1\n",
    "                else:\n",
    "                    class_dict[c] = 1\n",
    "            max_class = max(class_dict, key=class_dict.get)\n",
    "            predict_class.append(max_class)\n",
    "        return predict_class"
   ]
  },
  {
   "cell_type": "code",
   "execution_count": 14,
   "metadata": {},
   "outputs": [
    {
     "name": "stdout",
     "output_type": "stream",
     "text": [
      "**************Iris Dataset******************\n",
      "Best K : 9\n",
      "Best Train Accuracy : 0.962962962963\n",
      "Best Test Accuracy : 1.0\n",
      "Best ratio : 0.490566037736\n",
      "**********************************************\n"
     ]
    }
   ],
   "source": [
    "knn = KNearestNeighbors()\n",
    "m = len(X_train)\n",
    "# max_k = int(np.sqrt(m)) + 1\n",
    "max_k = m-1\n",
    "best_train_acc = 0\n",
    "best_test_acc = 0\n",
    "best_ratio = 0\n",
    "best_k = 0\n",
    "ks = list()\n",
    "train_accs = list()\n",
    "test_accs = list()\n",
    "for k in range(1,(max_k+1)):\n",
    "    ks.append(k)\n",
    "    \n",
    "    train_pred = knn.predict(X_train,X_train,k)\n",
    "    train_acc = knn.compute_accuracy(X_train['class'],train_pred)\n",
    "    \n",
    "    test_pred = knn.predict(X_train,X_test,k)\n",
    "    test_acc = knn.compute_accuracy(X_test['class'],test_pred)\n",
    "    \n",
    "    train_accs.append(train_acc)\n",
    "    test_accs.append(test_acc)\n",
    "    \n",
    "    ratio = 1.0/((1.0/float(train_acc)) + (1.0/float(test_acc)))\n",
    "    if ratio > best_ratio:\n",
    "        best_ratio = ratio\n",
    "        best_train_acc = train_acc\n",
    "        best_test_acc = test_acc\n",
    "        best_k = k\n",
    "\n",
    "print '**************Iris Dataset******************'\n",
    "print 'Best K : '+str(best_k)\n",
    "print 'Best Train Accuracy : '+str(best_train_acc)\n",
    "print 'Best Test Accuracy : '+str(best_test_acc)\n",
    "print 'Best ratio : '+str(best_ratio)\n",
    "print '**********************************************'"
   ]
  },
  {
   "cell_type": "code",
   "execution_count": 15,
   "metadata": {},
   "outputs": [
    {
     "data": {
      "text/plain": [
       "<matplotlib.text.Text at 0x7f426b0a9d10>"
      ]
     },
     "execution_count": 15,
     "metadata": {},
     "output_type": "execute_result"
    },
    {
     "data": {
      "image/png": "[encoded data removed]",
      "text/plain": [
       "<matplotlib.figure.Figure at 0x7f426b0cd410>"
      ]
     },
     "metadata": {
      "needs_background": "light"
     },
     "output_type": "display_data"
    }
   ],
   "source": [
    "df = pd.DataFrame({'Train Accuracy': train_accs, 'Test Accuracy':test_accs}, index=ks)\n",
    "lines = df.plot.line()\n",
    "lines.set_title('Iris dataset')\n",
    "lines.set_xlabel('K')\n",
    "lines.set_ylabel('Accuracy')"
   ]
  },
  {
   "cell_type": "code",
   "execution_count": null,
   "metadata": {},
   "outputs": [],
   "source": []
  }
 ],
 "metadata": {
  "kernelspec": {
   "display_name": "Python 2",
   "language": "python",
   "name": "python2"
  },
  "language_info": {
   "codemirror_mode": {
    "name": "ipython",
    "version": 2
   },
   "file_extension": ".py",
   "mimetype": "text/x-python",
   "name": "python",
   "nbconvert_exporter": "python",
   "pygments_lexer": "ipython2",
   "version": "2.7.15rc1"
  }
 },
 "nbformat": 4,
 "nbformat_minor": 2
}
